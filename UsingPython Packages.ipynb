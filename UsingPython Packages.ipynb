{
 "cells": [
  {
   "cell_type": "code",
   "execution_count": 1,
   "id": "43765e59-6a5c-4f51-9f3c-0b9db4f36b7f",
   "metadata": {},
   "outputs": [],
   "source": [
    "#question 1 \n",
    "#The library I chose was PyArrow. PyArrow helps read and write data formats, particullary large datasets.\n",
    "#question 2 \n",
    "#Some advantage of this package inlcude: faster data processing, large dataset support,and cross language usage.\n",
    "#One of the biggest limitations is that it could be memory intense, meaning it consumes more memory than the size of the data itself. \n",
    "#Another limitation is the lack of data cleaning tools. "
   ]
  },
  {
   "cell_type": "code",
   "execution_count": 8,
   "id": "8992bf83-36dc-4325-a80d-ef057288892f",
   "metadata": {},
   "outputs": [
    {
     "name": "stdout",
     "output_type": "stream",
     "text": [
      "Requirement already satisfied: pyarrow in /Library/Frameworks/Python.framework/Versions/3.12/lib/python3.12/site-packages (18.0.0)\n",
      "\n",
      "\u001b[1m[\u001b[0m\u001b[34;49mnotice\u001b[0m\u001b[1;39;49m]\u001b[0m\u001b[39;49m A new release of pip is available: \u001b[0m\u001b[31;49m24.2\u001b[0m\u001b[39;49m -> \u001b[0m\u001b[32;49m24.3.1\u001b[0m\n",
      "\u001b[1m[\u001b[0m\u001b[34;49mnotice\u001b[0m\u001b[1;39;49m]\u001b[0m\u001b[39;49m To update, run: \u001b[0m\u001b[32;49mpip install --upgrade pip\u001b[0m\n",
      "[\n",
      "  1,\n",
      "  2,\n",
      "  3,\n",
      "  4\n",
      "]\n"
     ]
    }
   ],
   "source": [
    "#Using data to demonstrate this package\n",
    "#import package\n",
    "!pip install pyarrow\n",
    "import pyarrow as pa\n",
    "# simple arrow array to see if it worked \n",
    "array = pa.array([1, 2, 3, 4])\n",
    "print(array)"
   ]
  },
  {
   "cell_type": "code",
   "execution_count": 16,
   "id": "fb85603b-114e-4562-8fb0-b6ec5f57ce6e",
   "metadata": {},
   "outputs": [
    {
     "name": "stdout",
     "output_type": "stream",
     "text": [
      "pyarrow.Table\n",
      "no-recurrence-events: string\n",
      "30-39: string\n",
      "premeno: string\n",
      "30-34: string\n",
      "0-2: string\n",
      "no: string\n",
      "3: int64\n",
      "left: string\n",
      "left_low: string\n",
      "no.1: string\n",
      "----\n",
      "no-recurrence-events: [[\"no-recurrence-events\",\"no-recurrence-events\",\"no-recurrence-events\",\"no-recurrence-events\",\"no-recurrence-events\",...,\"recurrence-events\",\"recurrence-events\",\"recurrence-events\",\"recurrence-events\",\"recurrence-events\"]]\n",
      "30-39: [[\"40-49\",\"40-49\",\"60-69\",\"40-49\",\"60-69\",...,\"30-39\",\"30-39\",\"60-69\",\"40-49\",\"50-59\"]]\n",
      "premeno: [[\"premeno\",\"premeno\",\"ge40\",\"premeno\",\"ge40\",...,\"premeno\",\"premeno\",\"ge40\",\"ge40\",\"ge40\"]]\n",
      "30-34: [[\"20-24\",\"20-24\",\"15-19\",\"0-4\",\"15-19\",...,\"30-34\",\"20-24\",\"20-24\",\"30-34\",\"30-34\"]]\n",
      "0-2: [[\"0-2\",\"0-2\",\"0-2\",\"0-2\",\"0-2\",...,\"0-2\",\"0-2\",\"0-2\",\"3-5\",\"3-5\"]]\n",
      "no: [[\"no\",\"no\",\"no\",\"no\",\"no\",...,\"no\",\"no\",\"no\",\"no\",\"no\"]]\n",
      "3: [[2,2,2,2,2,...,2,3,1,3,3]]\n",
      "left: [[\"right\",\"left\",\"right\",\"right\",\"left\",...,\"left\",\"left\",\"right\",\"left\",\"left\"]]\n",
      "left_low: [[\"right_up\",\"left_low\",\"left_up\",\"right_low\",\"left_low\",...,\"left_up\",\"left_up\",\"left_up\",\"left_low\",\"left_low\"]]\n",
      "no.1: [[\"no\",\"no\",\"no\",\"no\",\"no\",...,\"no\",\"yes\",\"no\",\"no\",\"no\"]]\n"
     ]
    }
   ],
   "source": [
    "#Example 1: converting panda dataframe to arrow table. This is example would work for in-memory processing \n",
    "#Loading the data \n",
    "import pandas as pd\n",
    "breastcancer_data = pd.read_csv('/Users/karlyn/Downloads/breast+cancer/breast-cancer.csv')\n",
    "# conversion of panda to arrow \n",
    "arrow_table = pa.Table.from_pandas(breastcancer_data)\n",
    "#display the arrow table \n",
    "print(arrow_table)"
   ]
  },
  {
   "cell_type": "code",
   "execution_count": 20,
   "id": "416e2572-f80a-4f84-9b24-7569aa3299f5",
   "metadata": {},
   "outputs": [
    {
     "name": "stdout",
     "output_type": "stream",
     "text": [
      "pyarrow.Table\n",
      "no-recurrence-events: string\n",
      "30-39: string\n",
      "premeno: string\n",
      "30-34: string\n",
      "0-2: string\n",
      "no: string\n",
      "3: int64\n",
      "left: string\n",
      "left_low: string\n",
      "no.1: string\n",
      "----\n",
      "no-recurrence-events: [[\"no-recurrence-events\",\"no-recurrence-events\",\"no-recurrence-events\",\"no-recurrence-events\",\"no-recurrence-events\",...,\"recurrence-events\",\"recurrence-events\",\"recurrence-events\",\"recurrence-events\",\"recurrence-events\"]]\n",
      "30-39: [[\"40-49\",\"40-49\",\"60-69\",\"40-49\",\"60-69\",...,\"30-39\",\"30-39\",\"60-69\",\"40-49\",\"50-59\"]]\n",
      "premeno: [[\"premeno\",\"premeno\",\"ge40\",\"premeno\",\"ge40\",...,\"premeno\",\"premeno\",\"ge40\",\"ge40\",\"ge40\"]]\n",
      "30-34: [[\"20-24\",\"20-24\",\"15-19\",\"0-4\",\"15-19\",...,\"30-34\",\"20-24\",\"20-24\",\"30-34\",\"30-34\"]]\n",
      "0-2: [[\"0-2\",\"0-2\",\"0-2\",\"0-2\",\"0-2\",...,\"0-2\",\"0-2\",\"0-2\",\"3-5\",\"3-5\"]]\n",
      "no: [[\"no\",\"no\",\"no\",\"no\",\"no\",...,\"no\",\"no\",\"no\",\"no\",\"no\"]]\n",
      "3: [[2,2,2,2,2,...,2,3,1,3,3]]\n",
      "left: [[\"right\",\"left\",\"right\",\"right\",\"left\",...,\"left\",\"left\",\"right\",\"left\",\"left\"]]\n",
      "left_low: [[\"right_up\",\"left_low\",\"left_up\",\"right_low\",\"left_low\",...,\"left_up\",\"left_up\",\"left_up\",\"left_low\",\"left_low\"]]\n",
      "no.1: [[\"no\",\"no\",\"no\",\"no\",\"no\",...,\"no\",\"yes\",\"no\",\"no\",\"no\"]]\n"
     ]
    }
   ],
   "source": [
    "#example 2: arrow table to parquet format. This format could be used for disk storage or big data. \n",
    "#parquet format is a column data storage \n",
    "import pyarrow as pa \n",
    "import pyarrow.parquet as pq\n",
    "\n",
    "# The arrow table to a Parquet file\n",
    "pq.write_table(arrow_table, '/Users/karlyn/Downloads/breast_cancer_data.parquet')\n",
    "\n",
    "# To verify, the Parquet file will read back into an Arrow Table\n",
    "arrow_table_parquet = pq.read_table('/Users/karlyn/Downloads/breast_cancer_data.parquet')\n",
    "\n",
    "# Display the read Parquet Table\n",
    "print(arrow_table_parquet)\n"
   ]
  },
  {
   "cell_type": "code",
   "execution_count": null,
   "id": "6b246a48-20f6-4911-b5ff-189b26d94f15",
   "metadata": {},
   "outputs": [],
   "source": []
  }
 ],
 "metadata": {
  "kernelspec": {
   "display_name": "Python 3 (ipykernel)",
   "language": "python",
   "name": "python3"
  },
  "language_info": {
   "codemirror_mode": {
    "name": "ipython",
    "version": 3
   },
   "file_extension": ".py",
   "mimetype": "text/x-python",
   "name": "python",
   "nbconvert_exporter": "python",
   "pygments_lexer": "ipython3",
   "version": "3.12.5"
  }
 },
 "nbformat": 4,
 "nbformat_minor": 5
}
